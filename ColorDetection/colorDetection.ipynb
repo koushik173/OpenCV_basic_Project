{
 "cells": [
  {
   "cell_type": "code",
   "execution_count": 33,
   "id": "8295b429",
   "metadata": {},
   "outputs": [],
   "source": [
    "import cv2\n",
    "from PIL import Image\n",
    "import numpy as np"
   ]
  },
  {
   "cell_type": "code",
   "execution_count": 19,
   "id": "7af80aee",
   "metadata": {},
   "outputs": [],
   "source": [
    "def get_limits(color):\n",
    "    c = np.uint8([[color]])  # BGR values\n",
    "    hsvC = cv2.cvtColor(c, cv2.COLOR_BGR2HSV)\n",
    "\n",
    "    hue = hsvC[0][0][0]  # Get the hue value\n",
    "\n",
    "    # Handle red hue wrap-around\n",
    "    if hue >= 165:  # Upper limit for divided red hue\n",
    "        lowerLimit = np.array([hue - 10, 100, 100], dtype=np.uint8)\n",
    "        upperLimit = np.array([180, 255, 255], dtype=np.uint8)\n",
    "    elif hue <= 15:  # Lower limit for divided red hue\n",
    "        lowerLimit = np.array([0, 100, 100], dtype=np.uint8)\n",
    "        upperLimit = np.array([hue + 10, 255, 255], dtype=np.uint8)\n",
    "    else:\n",
    "        lowerLimit = np.array([hue - 10, 100, 100], dtype=np.uint8)\n",
    "        upperLimit = np.array([hue + 10, 255, 255], dtype=np.uint8)\n",
    "\n",
    "    return lowerLimit, upperLimit"
   ]
  },
  {
   "cell_type": "code",
   "execution_count": 32,
   "id": "12692252",
   "metadata": {},
   "outputs": [],
   "source": [
    "cap = cv2.VideoCapture(0)\n",
    "\n",
    "#yellow for bgr colorspace\n",
    "yellow = [0, 255, 0]\n",
    "\n",
    "while True:\n",
    "    ret, frame = cap.read()\n",
    "    \n",
    "    hsvFrame = cv2.cvtColor(frame, cv2.COLOR_BGR2HSV)\n",
    "    \n",
    "    lowerLimit, upperLimit = get_limits(color=yellow)\n",
    "    \n",
    "    mask = cv2.inRange(hsvFrame, lowerLimit, upperLimit )\n",
    "    mask_ = Image.fromarray(mask)\n",
    "    \n",
    "    boundary = mask_.getbbox()\n",
    "    \n",
    "    if boundary is not None:\n",
    "        x1, y1, x2, y2 = boundary\n",
    "        frame = cv2.rectangle(frame, (x1,y1), (x2,y2), (0,255,0), 5)\n",
    "    \n",
    "    cv2.imshow(\"webcam\", cv2.flip(frame, 2))\n",
    "    if cv2.waitKey(1) & 0xFF == ord('x'):\n",
    "        break\n",
    "\n",
    "cap.release()\n",
    "cv2.destroyAllWindows()"
   ]
  },
  {
   "cell_type": "code",
   "execution_count": null,
   "id": "0ef73a45",
   "metadata": {},
   "outputs": [],
   "source": []
  }
 ],
 "metadata": {
  "kernelspec": {
   "display_name": "Python 3 (ipykernel)",
   "language": "python",
   "name": "python3"
  },
  "language_info": {
   "codemirror_mode": {
    "name": "ipython",
    "version": 3
   },
   "file_extension": ".py",
   "mimetype": "text/x-python",
   "name": "python",
   "nbconvert_exporter": "python",
   "pygments_lexer": "ipython3",
   "version": "3.10.9"
  }
 },
 "nbformat": 4,
 "nbformat_minor": 5
}
