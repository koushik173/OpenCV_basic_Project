{
 "cells": [
  {
   "cell_type": "code",
   "execution_count": 16,
   "id": "9de6bfa0",
   "metadata": {},
   "outputs": [],
   "source": [
    "import cv2 as cv\n",
    "import numpy as np"
   ]
  },
  {
   "cell_type": "code",
   "execution_count": 17,
   "id": "8a0e51fe",
   "metadata": {},
   "outputs": [],
   "source": [
    "img = cv.imread('../images/bird.JPG')"
   ]
  },
  {
   "cell_type": "code",
   "execution_count": 9,
   "id": "7cec3e62",
   "metadata": {},
   "outputs": [
    {
     "data": {
      "text/plain": [
       "-1"
      ]
     },
     "execution_count": 9,
     "metadata": {},
     "output_type": "execute_result"
    }
   ],
   "source": [
    "cv.imshow(\"Bird\", img)\n",
    "cv.waitKey(0)"
   ]
  },
  {
   "cell_type": "code",
   "execution_count": 3,
   "id": "dab18967",
   "metadata": {},
   "outputs": [
    {
     "data": {
      "text/plain": [
       "-1"
      ]
     },
     "execution_count": 3,
     "metadata": {},
     "output_type": "execute_result"
    }
   ],
   "source": [
    "cv.imshow(\"Bird\", img)\n",
    "ret, thres = cv.threshold(img, 127, 255, cv.THRESH_BINARY)\n",
    "cv.imshow('handwritten_thres', thres)\n",
    "cv.waitKey(0)"
   ]
  },
  {
   "cell_type": "code",
   "execution_count": 67,
   "id": "91360b95",
   "metadata": {},
   "outputs": [],
   "source": [
    "img = cv.imread('../images/bird.JPG')\n",
    "img_gray = cv.cvtColor(img, cv.COLOR_BGR2GRAY)\n",
    "ret, thres = cv.threshold(img_gray, 127, 255, cv.THRESH_BINARY_INV)"
   ]
  },
  {
   "cell_type": "code",
   "execution_count": 68,
   "id": "855fd3ac",
   "metadata": {},
   "outputs": [],
   "source": [
    "contours, hierarchy = cv.findContours(thres, cv.RETR_TREE, cv.CHAIN_APPROX_SIMPLE)\n",
    "# print(hierarchy)"
   ]
  },
  {
   "cell_type": "code",
   "execution_count": 69,
   "id": "cc3b23e0",
   "metadata": {
    "scrolled": true
   },
   "outputs": [
    {
     "data": {
      "text/plain": [
       "-1"
      ]
     },
     "execution_count": 69,
     "metadata": {},
     "output_type": "execute_result"
    }
   ],
   "source": [
    "for cnt in contours:\n",
    "    if cv.contourArea(cnt) > 50:\n",
    "#         cv.drawContours(img, cnt, -1,(0, 255, 0), 1)\n",
    "        \n",
    "        x1, y1, w, h = cv.boundingRect(cnt)\n",
    "        \n",
    "        cv.rectangle(img, (x1, y1), (x1+w, y1+h), (255,0,0), 2)\n",
    "\n",
    "cv.imshow('img', img)\n",
    "# cv.imshow('thres', thres)\n",
    "cv.waitKey(0)"
   ]
  },
  {
   "cell_type": "code",
   "execution_count": null,
   "id": "754d8804",
   "metadata": {},
   "outputs": [],
   "source": []
  }
 ],
 "metadata": {
  "kernelspec": {
   "display_name": "Python 3 (ipykernel)",
   "language": "python",
   "name": "python3"
  },
  "language_info": {
   "codemirror_mode": {
    "name": "ipython",
    "version": 3
   },
   "file_extension": ".py",
   "mimetype": "text/x-python",
   "name": "python",
   "nbconvert_exporter": "python",
   "pygments_lexer": "ipython3",
   "version": "3.10.9"
  }
 },
 "nbformat": 4,
 "nbformat_minor": 5
}
